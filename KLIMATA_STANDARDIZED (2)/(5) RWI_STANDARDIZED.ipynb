{
 "cells": [
  {
   "cell_type": "markdown",
   "id": "e0534a4b-387f-4a4c-9be1-f8300ff7bd69",
   "metadata": {},
   "source": [
    "## KLIMATA ILOILO DATA PREPROCESSING (STANDARDIZATION STAGE)"
   ]
  },
  {
   "cell_type": "markdown",
   "id": "59e4a9fe-3030-4e1e-a884-2a1b77d3cdb0",
   "metadata": {},
   "source": [
    "### We also standardized the datasets to make sure all the indicators are on the same scale before combining or comparing them. We start with RWI_STANDARDIZED."
   ]
  },
  {
   "cell_type": "markdown",
   "id": "508ad0e7-a48e-4c9c-91bd-510f38384fdc",
   "metadata": {},
   "source": [
    "## Importing essential libraries"
   ]
  },
  {
   "cell_type": "code",
   "execution_count": 1,
   "id": "c51bcc39",
   "metadata": {},
   "outputs": [],
   "source": [
    "import pandas as pd\n",
    "import numpy as np\n",
    "from sklearn.preprocessing import StandardScaler"
   ]
  },
  {
   "cell_type": "markdown",
   "id": "aafda329-4953-4f08-9c03-533ba94bf1eb",
   "metadata": {},
   "source": [
    "### Importing CSV file for RWI STANDARDIZED data"
   ]
  },
  {
   "cell_type": "code",
   "execution_count": 2,
   "id": "9141ae03",
   "metadata": {},
   "outputs": [],
   "source": [
    "RWI_DATA = pd.read_csv('RWI_FINAL.csv')"
   ]
  },
  {
   "cell_type": "markdown",
   "id": "a3199a5f-7979-4363-ae41-4d67b6786020",
   "metadata": {},
   "source": [
    "### Viewing RWI STANDARDIZED Dataframe's first 5 rows"
   ]
  },
  {
   "cell_type": "code",
   "execution_count": 3,
   "id": "8aeada73",
   "metadata": {},
   "outputs": [
    {
     "data": {
      "text/html": [
       "<div>\n",
       "<style scoped>\n",
       "    .dataframe tbody tr th:only-of-type {\n",
       "        vertical-align: middle;\n",
       "    }\n",
       "\n",
       "    .dataframe tbody tr th {\n",
       "        vertical-align: top;\n",
       "    }\n",
       "\n",
       "    .dataframe thead th {\n",
       "        text-align: right;\n",
       "    }\n",
       "</style>\n",
       "<table border=\"1\" class=\"dataframe\">\n",
       "  <thead>\n",
       "    <tr style=\"text-align: right;\">\n",
       "      <th></th>\n",
       "      <th>uuid</th>\n",
       "      <th>adm4_pcode</th>\n",
       "      <th>date</th>\n",
       "      <th>rwi_max</th>\n",
       "      <th>rwi_mean</th>\n",
       "      <th>rwi_median</th>\n",
       "      <th>rwi_min</th>\n",
       "      <th>rwi_std</th>\n",
       "      <th>adm4_en</th>\n",
       "      <th>brgy_total_area</th>\n",
       "    </tr>\n",
       "  </thead>\n",
       "  <tbody>\n",
       "    <tr>\n",
       "      <th>0</th>\n",
       "      <td>tmrwi000002</td>\n",
       "      <td>ph063022043</td>\n",
       "      <td>2016-01-01</td>\n",
       "      <td>0.623478</td>\n",
       "      <td>0.605305</td>\n",
       "      <td>0.611521</td>\n",
       "      <td>0.580916</td>\n",
       "      <td>0.021951</td>\n",
       "      <td>mabolo-delgado</td>\n",
       "      <td>0.0524</td>\n",
       "    </tr>\n",
       "    <tr>\n",
       "      <th>1</th>\n",
       "      <td>tmrwi000006</td>\n",
       "      <td>ph063022042</td>\n",
       "      <td>2016-01-01</td>\n",
       "      <td>0.561553</td>\n",
       "      <td>0.541626</td>\n",
       "      <td>0.538265</td>\n",
       "      <td>0.530066</td>\n",
       "      <td>0.012550</td>\n",
       "      <td>danao</td>\n",
       "      <td>0.1989</td>\n",
       "    </tr>\n",
       "    <tr>\n",
       "      <th>2</th>\n",
       "      <td>tmrwi000008</td>\n",
       "      <td>ph063022041</td>\n",
       "      <td>2016-01-01</td>\n",
       "      <td>0.687071</td>\n",
       "      <td>0.645999</td>\n",
       "      <td>0.648772</td>\n",
       "      <td>0.572029</td>\n",
       "      <td>0.034743</td>\n",
       "      <td>cubay</td>\n",
       "      <td>1.0505</td>\n",
       "    </tr>\n",
       "    <tr>\n",
       "      <th>3</th>\n",
       "      <td>tmrwi00000c</td>\n",
       "      <td>ph063022040</td>\n",
       "      <td>2016-01-01</td>\n",
       "      <td>0.593314</td>\n",
       "      <td>0.564654</td>\n",
       "      <td>0.564498</td>\n",
       "      <td>0.536304</td>\n",
       "      <td>0.028023</td>\n",
       "      <td>cuartero</td>\n",
       "      <td>0.2656</td>\n",
       "    </tr>\n",
       "    <tr>\n",
       "      <th>4</th>\n",
       "      <td>tmrwi00000e</td>\n",
       "      <td>ph063022038</td>\n",
       "      <td>2016-01-01</td>\n",
       "      <td>0.647317</td>\n",
       "      <td>0.621072</td>\n",
       "      <td>0.617565</td>\n",
       "      <td>0.601839</td>\n",
       "      <td>0.020932</td>\n",
       "      <td>concepcion-montes</td>\n",
       "      <td>0.2205</td>\n",
       "    </tr>\n",
       "  </tbody>\n",
       "</table>\n",
       "</div>"
      ],
      "text/plain": [
       "          uuid   adm4_pcode        date   rwi_max  rwi_mean  rwi_median  \\\n",
       "0  tmrwi000002  ph063022043  2016-01-01  0.623478  0.605305    0.611521   \n",
       "1  tmrwi000006  ph063022042  2016-01-01  0.561553  0.541626    0.538265   \n",
       "2  tmrwi000008  ph063022041  2016-01-01  0.687071  0.645999    0.648772   \n",
       "3  tmrwi00000c  ph063022040  2016-01-01  0.593314  0.564654    0.564498   \n",
       "4  tmrwi00000e  ph063022038  2016-01-01  0.647317  0.621072    0.617565   \n",
       "\n",
       "    rwi_min   rwi_std            adm4_en  brgy_total_area  \n",
       "0  0.580916  0.021951     mabolo-delgado           0.0524  \n",
       "1  0.530066  0.012550              danao           0.1989  \n",
       "2  0.572029  0.034743              cubay           1.0505  \n",
       "3  0.536304  0.028023           cuartero           0.2656  \n",
       "4  0.601839  0.020932  concepcion-montes           0.2205  "
      ]
     },
     "execution_count": 3,
     "metadata": {},
     "output_type": "execute_result"
    }
   ],
   "source": [
    "RWI_DATA.head()"
   ]
  },
  {
   "cell_type": "markdown",
   "id": "3c22fcb2-c334-4cf5-8ac9-d55118ac9fe4",
   "metadata": {},
   "source": [
    "### Standardizing RWI STANDARDIZED columns"
   ]
  },
  {
   "cell_type": "code",
   "execution_count": 4,
   "id": "9f986e06",
   "metadata": {},
   "outputs": [
    {
     "data": {
      "text/html": [
       "<div>\n",
       "<style scoped>\n",
       "    .dataframe tbody tr th:only-of-type {\n",
       "        vertical-align: middle;\n",
       "    }\n",
       "\n",
       "    .dataframe tbody tr th {\n",
       "        vertical-align: top;\n",
       "    }\n",
       "\n",
       "    .dataframe thead th {\n",
       "        text-align: right;\n",
       "    }\n",
       "</style>\n",
       "<table border=\"1\" class=\"dataframe\">\n",
       "  <thead>\n",
       "    <tr style=\"text-align: right;\">\n",
       "      <th></th>\n",
       "      <th>uuid</th>\n",
       "      <th>adm4_pcode</th>\n",
       "      <th>date</th>\n",
       "      <th>rwi_max</th>\n",
       "      <th>rwi_mean</th>\n",
       "      <th>rwi_median</th>\n",
       "      <th>rwi_min</th>\n",
       "      <th>rwi_std</th>\n",
       "      <th>adm4_en</th>\n",
       "      <th>brgy_total_area</th>\n",
       "    </tr>\n",
       "  </thead>\n",
       "  <tbody>\n",
       "    <tr>\n",
       "      <th>0</th>\n",
       "      <td>tmrwi000002</td>\n",
       "      <td>ph063022043</td>\n",
       "      <td>2016-01-01</td>\n",
       "      <td>-0.752518</td>\n",
       "      <td>-0.593147</td>\n",
       "      <td>-0.482518</td>\n",
       "      <td>-0.443668</td>\n",
       "      <td>-0.435557</td>\n",
       "      <td>mabolo-delgado</td>\n",
       "      <td>0.0524</td>\n",
       "    </tr>\n",
       "    <tr>\n",
       "      <th>1</th>\n",
       "      <td>tmrwi000006</td>\n",
       "      <td>ph063022042</td>\n",
       "      <td>2016-01-01</td>\n",
       "      <td>-1.897069</td>\n",
       "      <td>-1.784427</td>\n",
       "      <td>-1.829337</td>\n",
       "      <td>-1.281248</td>\n",
       "      <td>-1.047442</td>\n",
       "      <td>danao</td>\n",
       "      <td>0.1989</td>\n",
       "    </tr>\n",
       "    <tr>\n",
       "      <th>2</th>\n",
       "      <td>tmrwi000008</td>\n",
       "      <td>ph063022041</td>\n",
       "      <td>2016-01-01</td>\n",
       "      <td>0.422886</td>\n",
       "      <td>0.168145</td>\n",
       "      <td>0.202362</td>\n",
       "      <td>-0.590055</td>\n",
       "      <td>0.397060</td>\n",
       "      <td>cubay</td>\n",
       "      <td>1.0505</td>\n",
       "    </tr>\n",
       "    <tr>\n",
       "      <th>3</th>\n",
       "      <td>tmrwi00000c</td>\n",
       "      <td>ph063022040</td>\n",
       "      <td>2016-01-01</td>\n",
       "      <td>-1.310030</td>\n",
       "      <td>-1.353632</td>\n",
       "      <td>-1.347036</td>\n",
       "      <td>-1.178499</td>\n",
       "      <td>-0.040366</td>\n",
       "      <td>cuartero</td>\n",
       "      <td>0.2656</td>\n",
       "    </tr>\n",
       "    <tr>\n",
       "      <th>4</th>\n",
       "      <td>tmrwi00000e</td>\n",
       "      <td>ph063022038</td>\n",
       "      <td>2016-01-01</td>\n",
       "      <td>-0.311894</td>\n",
       "      <td>-0.298192</td>\n",
       "      <td>-0.371389</td>\n",
       "      <td>-0.099049</td>\n",
       "      <td>-0.501858</td>\n",
       "      <td>concepcion-montes</td>\n",
       "      <td>0.2205</td>\n",
       "    </tr>\n",
       "  </tbody>\n",
       "</table>\n",
       "</div>"
      ],
      "text/plain": [
       "          uuid   adm4_pcode        date   rwi_max  rwi_mean  rwi_median  \\\n",
       "0  tmrwi000002  ph063022043  2016-01-01 -0.752518 -0.593147   -0.482518   \n",
       "1  tmrwi000006  ph063022042  2016-01-01 -1.897069 -1.784427   -1.829337   \n",
       "2  tmrwi000008  ph063022041  2016-01-01  0.422886  0.168145    0.202362   \n",
       "3  tmrwi00000c  ph063022040  2016-01-01 -1.310030 -1.353632   -1.347036   \n",
       "4  tmrwi00000e  ph063022038  2016-01-01 -0.311894 -0.298192   -0.371389   \n",
       "\n",
       "    rwi_min   rwi_std            adm4_en  brgy_total_area  \n",
       "0 -0.443668 -0.435557     mabolo-delgado           0.0524  \n",
       "1 -1.281248 -1.047442              danao           0.1989  \n",
       "2 -0.590055  0.397060              cubay           1.0505  \n",
       "3 -1.178499 -0.040366           cuartero           0.2656  \n",
       "4 -0.099049 -0.501858  concepcion-montes           0.2205  "
      ]
     },
     "execution_count": 4,
     "metadata": {},
     "output_type": "execute_result"
    }
   ],
   "source": [
    "from sklearn.preprocessing import StandardScaler\n",
    "\n",
    "cols_to_standardize = ['rwi_max', 'rwi_mean', 'rwi_median', 'rwi_min', 'rwi_std']\n",
    "\n",
    "scaler = StandardScaler()\n",
    "\n",
    "RWI_Sta = RWI_DATA.copy()\n",
    "RWI_Sta[cols_to_standardize] = scaler.fit_transform(RWI_Sta[cols_to_standardize])\n",
    "\n",
    "RWI_Sta.head()"
   ]
  },
  {
   "cell_type": "markdown",
   "id": "d7a027a8-0d69-4bd1-b940-640c20b5a885",
   "metadata": {},
   "source": [
    "### Saves standardized RWI STANDARDIZED dataframe to csv."
   ]
  },
  {
   "cell_type": "code",
   "execution_count": 5,
   "id": "bf0dd9a6",
   "metadata": {},
   "outputs": [],
   "source": [
    "RWI_Sta.to_csv(\"RWI_STANDARDIZED.csv\", index=False)"
   ]
  },
  {
   "cell_type": "code",
   "execution_count": null,
   "id": "5552429a",
   "metadata": {},
   "outputs": [],
   "source": []
  }
 ],
 "metadata": {
  "kernelspec": {
   "display_name": "Python 3 (ipykernel)",
   "language": "python",
   "name": "python3"
  },
  "language_info": {
   "codemirror_mode": {
    "name": "ipython",
    "version": 3
   },
   "file_extension": ".py",
   "mimetype": "text/x-python",
   "name": "python",
   "nbconvert_exporter": "python",
   "pygments_lexer": "ipython3",
   "version": "3.11.7"
  }
 },
 "nbformat": 4,
 "nbformat_minor": 5
}
