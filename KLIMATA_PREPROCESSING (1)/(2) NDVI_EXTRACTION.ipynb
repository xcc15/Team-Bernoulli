{
 "cells": [
  {
   "cell_type": "markdown",
   "id": "534e2e9b",
   "metadata": {},
   "source": [
    "# KLIMATA ILOILO DATA EXTRACTION AND PREPROCESSING STAGE"
   ]
  },
  {
   "cell_type": "markdown",
   "id": "5885c640",
   "metadata": {},
   "source": [
    "### For the next step, we extract and process the NDVI data. The NDVI is an index that measures how dense the vegetation in the area is. Basically, how green and healthy the land is. This jupyter notebook contains code that preprocesses the vegetation data."
   ]
  },
  {
   "cell_type": "markdown",
   "id": "334c05b5",
   "metadata": {},
   "source": [
    "### Importing essential libraries"
   ]
  },
  {
   "cell_type": "code",
   "execution_count": 1,
   "id": "8a845de4",
   "metadata": {},
   "outputs": [],
   "source": [
    "import pandas as pd\n",
    "import numpy as np\n",
    "import matplotlib.pyplot as plt"
   ]
  },
  {
   "cell_type": "markdown",
   "id": "6379e4c0",
   "metadata": {},
   "source": [
    "### Importing CSV file for NDVI data"
   ]
  },
  {
   "cell_type": "code",
   "execution_count": 10,
   "id": "e52a1a01",
   "metadata": {},
   "outputs": [],
   "source": [
    "land_df = pd.read_csv(r'C:/Users/Value Lines/Documents/climate_land.csv')"
   ]
  },
  {
   "cell_type": "markdown",
   "id": "0894d573",
   "metadata": {},
   "source": [
    "### Checking of NDVI dataframe rows"
   ]
  },
  {
   "cell_type": "code",
   "execution_count": 11,
   "id": "75d356e0",
   "metadata": {},
   "outputs": [
    {
     "name": "stdout",
     "output_type": "stream",
     "text": [
      "<class 'pandas.core.frame.DataFrame'>\n",
      "RangeIndex: 6421095 entries, 0 to 6421094\n",
      "Data columns (total 5 columns):\n",
      " #   Column      Dtype  \n",
      "---  ------      -----  \n",
      " 0   uuid        object \n",
      " 1   adm4_pcode  object \n",
      " 2   date        object \n",
      " 3   freq        object \n",
      " 4   ndvi        float64\n",
      "dtypes: float64(1), object(4)\n",
      "memory usage: 244.9+ MB\n"
     ]
    }
   ],
   "source": [
    "land_df.info()"
   ]
  },
  {
   "cell_type": "markdown",
   "id": "94a90fe1",
   "metadata": {},
   "source": [
    "### Checking of NDVI dataframe rows and columns"
   ]
  },
  {
   "cell_type": "code",
   "execution_count": 12,
   "id": "a96fb0cf",
   "metadata": {},
   "outputs": [
    {
     "data": {
      "text/plain": [
       "(6421095, 5)"
      ]
     },
     "execution_count": 12,
     "metadata": {},
     "output_type": "execute_result"
    }
   ],
   "source": [
    "land_df.shape"
   ]
  },
  {
   "cell_type": "markdown",
   "id": "8a0ca191",
   "metadata": {},
   "source": [
    "### Checking columns'  null value counts"
   ]
  },
  {
   "cell_type": "code",
   "execution_count": 13,
   "id": "c873e342",
   "metadata": {},
   "outputs": [
    {
     "name": "stdout",
     "output_type": "stream",
     "text": [
      "uuid              0\n",
      "adm4_pcode        0\n",
      "date              0\n",
      "freq              0\n",
      "ndvi          11249\n",
      "dtype: int64\n"
     ]
    }
   ],
   "source": [
    "print(land_df.isnull().sum())"
   ]
  },
  {
   "cell_type": "markdown",
   "id": "193f46e3",
   "metadata": {},
   "source": [
    "### Cleans up all column names for consistency"
   ]
  },
  {
   "cell_type": "code",
   "execution_count": 14,
   "id": "b626eb5b",
   "metadata": {},
   "outputs": [],
   "source": [
    "land_df.columns = land_df.columns.str.strip().str.lower().str.replace(' ', '_')"
   ]
  },
  {
   "cell_type": "markdown",
   "id": "59982574",
   "metadata": {},
   "source": [
    "### Converting column 'date' into proper datetime format"
   ]
  },
  {
   "cell_type": "code",
   "execution_count": 15,
   "id": "b6a26e34",
   "metadata": {},
   "outputs": [],
   "source": [
    "if 'date' in land_df.columns:\n",
    "    df['date'] = pd.to_datetime(land_df['date'], errors='coerce')"
   ]
  },
  {
   "cell_type": "markdown",
   "id": "9db1e68d",
   "metadata": {},
   "source": [
    "### Replacing of missing values with the median of the column"
   ]
  },
  {
   "cell_type": "code",
   "execution_count": 16,
   "id": "6110df62",
   "metadata": {},
   "outputs": [],
   "source": [
    "num_cols = land_df.select_dtypes(include=['float64', 'int64']).columns\n",
    "land_df[num_cols] = land_df[num_cols].fillna(land_df[num_cols].median())\n"
   ]
  },
  {
   "cell_type": "markdown",
   "id": "b5bc17fd",
   "metadata": {},
   "source": [
    "### Cleans up all text (categorical) columns in the NDVI dataframe for consistency"
   ]
  },
  {
   "cell_type": "code",
   "execution_count": 17,
   "id": "2a11416c",
   "metadata": {},
   "outputs": [],
   "source": [
    "cat_cols = land_df.select_dtypes(include=['object']).columns\n",
    "for col in cat_cols:\n",
    "    df[col] = land_df[col].str.strip().str.lower()"
   ]
  },
  {
   "cell_type": "markdown",
   "id": "f42307fd",
   "metadata": {},
   "source": [
    "### Drops irrelevant column"
   ]
  },
  {
   "cell_type": "code",
   "execution_count": 18,
   "id": "412c8e52",
   "metadata": {},
   "outputs": [],
   "source": [
    "land_df.drop(columns=\"freq\", inplace=True)"
   ]
  },
  {
   "cell_type": "markdown",
   "id": "05f305bb",
   "metadata": {},
   "source": [
    "### Viewing the preprocessed NDVI dataframe"
   ]
  },
  {
   "cell_type": "code",
   "execution_count": 19,
   "id": "ca6de277",
   "metadata": {},
   "outputs": [
    {
     "data": {
      "text/html": [
       "<div>\n",
       "<style scoped>\n",
       "    .dataframe tbody tr th:only-of-type {\n",
       "        vertical-align: middle;\n",
       "    }\n",
       "\n",
       "    .dataframe tbody tr th {\n",
       "        vertical-align: top;\n",
       "    }\n",
       "\n",
       "    .dataframe thead th {\n",
       "        text-align: right;\n",
       "    }\n",
       "</style>\n",
       "<table border=\"1\" class=\"dataframe\">\n",
       "  <thead>\n",
       "    <tr style=\"text-align: right;\">\n",
       "      <th></th>\n",
       "      <th>uuid</th>\n",
       "      <th>adm4_pcode</th>\n",
       "      <th>date</th>\n",
       "      <th>ndvi</th>\n",
       "    </tr>\n",
       "  </thead>\n",
       "  <tbody>\n",
       "    <tr>\n",
       "      <th>0</th>\n",
       "      <td>CLAND000000</td>\n",
       "      <td>PH015518001</td>\n",
       "      <td>2003-01-01</td>\n",
       "      <td>0.49</td>\n",
       "    </tr>\n",
       "    <tr>\n",
       "      <th>1</th>\n",
       "      <td>CLAND000001</td>\n",
       "      <td>PH015518001</td>\n",
       "      <td>2003-01-02</td>\n",
       "      <td>0.47</td>\n",
       "    </tr>\n",
       "    <tr>\n",
       "      <th>2</th>\n",
       "      <td>CLAND000002</td>\n",
       "      <td>PH015518001</td>\n",
       "      <td>2003-01-03</td>\n",
       "      <td>0.44</td>\n",
       "    </tr>\n",
       "    <tr>\n",
       "      <th>3</th>\n",
       "      <td>CLAND000003</td>\n",
       "      <td>PH015518001</td>\n",
       "      <td>2003-01-04</td>\n",
       "      <td>0.44</td>\n",
       "    </tr>\n",
       "    <tr>\n",
       "      <th>4</th>\n",
       "      <td>CLAND000004</td>\n",
       "      <td>PH015518001</td>\n",
       "      <td>2003-01-05</td>\n",
       "      <td>0.45</td>\n",
       "    </tr>\n",
       "    <tr>\n",
       "      <th>5</th>\n",
       "      <td>CLAND000005</td>\n",
       "      <td>PH015518001</td>\n",
       "      <td>2003-01-06</td>\n",
       "      <td>0.43</td>\n",
       "    </tr>\n",
       "    <tr>\n",
       "      <th>6</th>\n",
       "      <td>CLAND000006</td>\n",
       "      <td>PH015518001</td>\n",
       "      <td>2003-01-07</td>\n",
       "      <td>0.43</td>\n",
       "    </tr>\n",
       "    <tr>\n",
       "      <th>7</th>\n",
       "      <td>CLAND000007</td>\n",
       "      <td>PH015518001</td>\n",
       "      <td>2003-01-08</td>\n",
       "      <td>0.43</td>\n",
       "    </tr>\n",
       "    <tr>\n",
       "      <th>8</th>\n",
       "      <td>CLAND000008</td>\n",
       "      <td>PH015518001</td>\n",
       "      <td>2003-01-09</td>\n",
       "      <td>0.44</td>\n",
       "    </tr>\n",
       "    <tr>\n",
       "      <th>9</th>\n",
       "      <td>CLAND000009</td>\n",
       "      <td>PH015518001</td>\n",
       "      <td>2003-01-10</td>\n",
       "      <td>0.45</td>\n",
       "    </tr>\n",
       "  </tbody>\n",
       "</table>\n",
       "</div>"
      ],
      "text/plain": [
       "          uuid   adm4_pcode        date  ndvi\n",
       "0  CLAND000000  PH015518001  2003-01-01  0.49\n",
       "1  CLAND000001  PH015518001  2003-01-02  0.47\n",
       "2  CLAND000002  PH015518001  2003-01-03  0.44\n",
       "3  CLAND000003  PH015518001  2003-01-04  0.44\n",
       "4  CLAND000004  PH015518001  2003-01-05  0.45\n",
       "5  CLAND000005  PH015518001  2003-01-06  0.43\n",
       "6  CLAND000006  PH015518001  2003-01-07  0.43\n",
       "7  CLAND000007  PH015518001  2003-01-08  0.43\n",
       "8  CLAND000008  PH015518001  2003-01-09  0.44\n",
       "9  CLAND000009  PH015518001  2003-01-10  0.45"
      ]
     },
     "execution_count": 19,
     "metadata": {},
     "output_type": "execute_result"
    }
   ],
   "source": [
    "land_df.head(10)"
   ]
  },
  {
   "cell_type": "markdown",
   "id": "c94748c6",
   "metadata": {},
   "source": [
    "### Importing of NDVI dataframe as a csv file"
   ]
  },
  {
   "cell_type": "code",
   "execution_count": null,
   "id": "9a0c0b73",
   "metadata": {},
   "outputs": [],
   "source": [
    "land_df.to_csv(\"NDVI.csv\", index=False)"
   ]
  }
 ],
 "metadata": {
  "kernelspec": {
   "display_name": "Python 3 (ipykernel)",
   "language": "python",
   "name": "python3"
  },
  "language_info": {
   "codemirror_mode": {
    "name": "ipython",
    "version": 3
   },
   "file_extension": ".py",
   "mimetype": "text/x-python",
   "name": "python",
   "nbconvert_exporter": "python",
   "pygments_lexer": "ipython3",
   "version": "3.11.4"
  }
 },
 "nbformat": 4,
 "nbformat_minor": 5
}
