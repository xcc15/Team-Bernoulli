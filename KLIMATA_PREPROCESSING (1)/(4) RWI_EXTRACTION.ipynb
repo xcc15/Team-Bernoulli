{
 "cells": [
  {
   "cell_type": "markdown",
   "id": "2a21d3fd-f10a-4450-b686-c56d6ae5d826",
   "metadata": {},
   "source": [
    "# KLIMATA ILOILO DATA EXTRACTION AND PREPROCESSING STAGE"
   ]
  },
  {
   "cell_type": "markdown",
   "id": "4a56bf43-7971-4882-a1c4-4b3f95037206",
   "metadata": {},
   "source": [
    "### As we continue to preprocess data, we extract and process the Relative Wealth Index (RWI) dataset. RWI is a measurement of economic status per barangay."
   ]
  },
  {
   "cell_type": "markdown",
   "id": "9807fe54-b5d5-45de-980a-59aa81a675e0",
   "metadata": {},
   "source": [
    "### Importing essential libraries"
   ]
  },
  {
   "cell_type": "code",
   "execution_count": 1,
   "id": "e65d01bf",
   "metadata": {},
   "outputs": [],
   "source": [
    "import pandas as pd\n",
    "import numpy as np"
   ]
  },
  {
   "cell_type": "markdown",
   "id": "dcf09e20-81de-433a-b2b6-59e4e238f8c3",
   "metadata": {},
   "source": [
    "### Importing CSV file for Relative Wealth Data (RWI)"
   ]
  },
  {
   "cell_type": "code",
   "execution_count": 2,
   "id": "0c0b601b",
   "metadata": {},
   "outputs": [],
   "source": [
    "rwi_df = pd.read_csv(\"tm_relative_wealth_index.csv\")"
   ]
  },
  {
   "cell_type": "code",
   "execution_count": 4,
   "id": "d5e8e392",
   "metadata": {},
   "outputs": [
    {
     "data": {
      "text/html": [
       "<div>\n",
       "<style scoped>\n",
       "    .dataframe tbody tr th:only-of-type {\n",
       "        vertical-align: middle;\n",
       "    }\n",
       "\n",
       "    .dataframe tbody tr th {\n",
       "        vertical-align: top;\n",
       "    }\n",
       "\n",
       "    .dataframe thead th {\n",
       "        text-align: right;\n",
       "    }\n",
       "</style>\n",
       "<table border=\"1\" class=\"dataframe\">\n",
       "  <thead>\n",
       "    <tr style=\"text-align: right;\">\n",
       "      <th></th>\n",
       "      <th>uuid</th>\n",
       "      <th>adm4_pcode</th>\n",
       "      <th>date</th>\n",
       "      <th>freq</th>\n",
       "      <th>rwi_max</th>\n",
       "      <th>rwi_mean</th>\n",
       "      <th>rwi_median</th>\n",
       "      <th>rwi_min</th>\n",
       "      <th>rwi_std</th>\n",
       "    </tr>\n",
       "  </thead>\n",
       "  <tbody>\n",
       "    <tr>\n",
       "      <th>0</th>\n",
       "      <td>TMRWI000000</td>\n",
       "      <td>PH015518001</td>\n",
       "      <td>2016-01-01</td>\n",
       "      <td>Y</td>\n",
       "      <td>0.729052</td>\n",
       "      <td>0.668600</td>\n",
       "      <td>0.670609</td>\n",
       "      <td>0.636570</td>\n",
       "      <td>0.030640</td>\n",
       "    </tr>\n",
       "    <tr>\n",
       "      <th>1</th>\n",
       "      <td>TMRWI000001</td>\n",
       "      <td>PH112402081</td>\n",
       "      <td>2016-01-01</td>\n",
       "      <td>Y</td>\n",
       "      <td>0.657610</td>\n",
       "      <td>0.531397</td>\n",
       "      <td>0.530826</td>\n",
       "      <td>0.453885</td>\n",
       "      <td>0.035633</td>\n",
       "    </tr>\n",
       "    <tr>\n",
       "      <th>2</th>\n",
       "      <td>TMRWI000002</td>\n",
       "      <td>PH063022043</td>\n",
       "      <td>2016-01-01</td>\n",
       "      <td>Y</td>\n",
       "      <td>0.623478</td>\n",
       "      <td>0.605305</td>\n",
       "      <td>0.611521</td>\n",
       "      <td>0.580916</td>\n",
       "      <td>0.021951</td>\n",
       "    </tr>\n",
       "    <tr>\n",
       "      <th>3</th>\n",
       "      <td>TMRWI000003</td>\n",
       "      <td>PH112402082</td>\n",
       "      <td>2016-01-01</td>\n",
       "      <td>Y</td>\n",
       "      <td>0.590676</td>\n",
       "      <td>0.487690</td>\n",
       "      <td>0.484263</td>\n",
       "      <td>0.413577</td>\n",
       "      <td>0.038916</td>\n",
       "    </tr>\n",
       "    <tr>\n",
       "      <th>4</th>\n",
       "      <td>TMRWI000004</td>\n",
       "      <td>PH097332060</td>\n",
       "      <td>2016-01-01</td>\n",
       "      <td>Y</td>\n",
       "      <td>0.462071</td>\n",
       "      <td>0.374796</td>\n",
       "      <td>0.366564</td>\n",
       "      <td>0.321981</td>\n",
       "      <td>0.033861</td>\n",
       "    </tr>\n",
       "  </tbody>\n",
       "</table>\n",
       "</div>"
      ],
      "text/plain": [
       "          uuid   adm4_pcode        date freq   rwi_max  rwi_mean  rwi_median  \\\n",
       "0  TMRWI000000  PH015518001  2016-01-01    Y  0.729052  0.668600    0.670609   \n",
       "1  TMRWI000001  PH112402081  2016-01-01    Y  0.657610  0.531397    0.530826   \n",
       "2  TMRWI000002  PH063022043  2016-01-01    Y  0.623478  0.605305    0.611521   \n",
       "3  TMRWI000003  PH112402082  2016-01-01    Y  0.590676  0.487690    0.484263   \n",
       "4  TMRWI000004  PH097332060  2016-01-01    Y  0.462071  0.374796    0.366564   \n",
       "\n",
       "    rwi_min   rwi_std  \n",
       "0  0.636570  0.030640  \n",
       "1  0.453885  0.035633  \n",
       "2  0.580916  0.021951  \n",
       "3  0.413577  0.038916  \n",
       "4  0.321981  0.033861  "
      ]
     },
     "execution_count": 4,
     "metadata": {},
     "output_type": "execute_result"
    }
   ],
   "source": [
    "rwi_df.head()"
   ]
  },
  {
   "cell_type": "code",
   "execution_count": 14,
   "id": "6dbe3640",
   "metadata": {},
   "outputs": [
    {
     "data": {
      "text/plain": [
       "uuid          0\n",
       "adm4_pcode    0\n",
       "date          0\n",
       "rwi_max       0\n",
       "rwi_mean      0\n",
       "rwi_median    0\n",
       "rwi_min       0\n",
       "rwi_std       0\n",
       "dtype: int64"
      ]
     },
     "execution_count": 14,
     "metadata": {},
     "output_type": "execute_result"
    }
   ],
   "source": [
    "rwi_df.isnull().sum()"
   ]
  },
  {
   "cell_type": "markdown",
   "id": "703228c1-c21f-4d8a-b4f6-2b80b1074158",
   "metadata": {},
   "source": [
    "### Checking of RWI dataframe rows and columns"
   ]
  },
  {
   "cell_type": "code",
   "execution_count": 16,
   "id": "357ed1b6",
   "metadata": {},
   "outputs": [
    {
     "data": {
      "text/plain": [
       "(6153, 8)"
      ]
     },
     "execution_count": 16,
     "metadata": {},
     "output_type": "execute_result"
    }
   ],
   "source": [
    "rwi_df.shape"
   ]
  },
  {
   "cell_type": "markdown",
   "id": "bc9da5b1-f492-4546-b51f-fda9860256c4",
   "metadata": {},
   "source": [
    "### Cleans up all column names for consistency"
   ]
  },
  {
   "cell_type": "code",
   "execution_count": 8,
   "id": "1287f75b",
   "metadata": {},
   "outputs": [],
   "source": [
    "rwi_df.columns = rwi_df.columns.str.strip().str.lower().str.replace(' ', '_')"
   ]
  },
  {
   "cell_type": "markdown",
   "id": "655f2bc6-d661-464c-85a9-fcc08f0f33da",
   "metadata": {},
   "source": [
    "### Replacing of missing values with the median of the column"
   ]
  },
  {
   "cell_type": "code",
   "execution_count": 9,
   "id": "cc83bf85",
   "metadata": {},
   "outputs": [],
   "source": [
    "num_cols = rwi_df.select_dtypes(include=['float64', 'int64']).columns\n",
    "rwi_df[num_cols] = rwi_df[num_cols].fillna(rwi_df[num_cols].median())"
   ]
  },
  {
   "cell_type": "markdown",
   "id": "2f7272ea-c4c8-4cc5-a3b4-ed7d1d26ac6a",
   "metadata": {},
   "source": [
    "### Converting column 'date' into proper datetime format"
   ]
  },
  {
   "cell_type": "code",
   "execution_count": 11,
   "id": "4a1412c9",
   "metadata": {},
   "outputs": [],
   "source": [
    "if 'date' in rwi_df.columns:\n",
    "    rwi_df['date'] = pd.to_datetime(rwi_df['date'], errors='coerce')"
   ]
  },
  {
   "cell_type": "markdown",
   "id": "a7289e17-76ad-4ec4-8eab-5717daaf645e",
   "metadata": {},
   "source": [
    "### Cleans up all text (categorical) columns in the RWI dataframe for consistency"
   ]
  },
  {
   "cell_type": "code",
   "execution_count": 12,
   "id": "ee5f2d36",
   "metadata": {},
   "outputs": [],
   "source": [
    "cat_cols = rwi_df.select_dtypes(include=['object']).columns\n",
    "for col in cat_cols:\n",
    "    rwi_df[col] = rwi_df[col].str.strip().str.lower()"
   ]
  },
  {
   "cell_type": "markdown",
   "id": "55afbd98-3001-4142-a67d-659c4e08b369",
   "metadata": {},
   "source": [
    "### Drops irrelavant column"
   ]
  },
  {
   "cell_type": "code",
   "execution_count": 13,
   "id": "540a3434",
   "metadata": {},
   "outputs": [],
   "source": [
    "rwi_df = rwi_df.drop(columns=['freq'])"
   ]
  },
  {
   "cell_type": "markdown",
   "id": "a1d616ef-46fb-45f7-9644-ff4843b85b41",
   "metadata": {},
   "source": [
    "### After preprocessing the RWI dataset, we merge to the locations dataset to match the barangay to their Relative Wealth Index."
   ]
  },
  {
   "cell_type": "markdown",
   "id": "b8202566-9035-46aa-8929-a9e692862842",
   "metadata": {},
   "source": [
    "### Importing CSV file for Location Data"
   ]
  },
  {
   "cell_type": "code",
   "execution_count": 17,
   "id": "66cccd9a",
   "metadata": {},
   "outputs": [],
   "source": [
    "location_df = pd.read_csv(\"LOCATION.csv\")"
   ]
  },
  {
   "cell_type": "markdown",
   "id": "b1ff5846-4573-46ba-a1ae-b3329be1ae36",
   "metadata": {},
   "source": [
    "### Merging RWI dataframe and Locations dataframe"
   ]
  },
  {
   "cell_type": "code",
   "execution_count": 18,
   "id": "8da5f7a5",
   "metadata": {},
   "outputs": [],
   "source": [
    "RWI_ILOILO = pd.merge(rwi_df, location_df, on=\"adm4_pcode\", how='inner')"
   ]
  },
  {
   "cell_type": "markdown",
   "id": "51cd0404-62aa-477f-abf5-80c556b308f4",
   "metadata": {},
   "source": [
    "### Viewing the merged dataset"
   ]
  },
  {
   "cell_type": "code",
   "execution_count": 19,
   "id": "35b26617",
   "metadata": {},
   "outputs": [
    {
     "data": {
      "text/html": [
       "<div>\n",
       "<style scoped>\n",
       "    .dataframe tbody tr th:only-of-type {\n",
       "        vertical-align: middle;\n",
       "    }\n",
       "\n",
       "    .dataframe tbody tr th {\n",
       "        vertical-align: top;\n",
       "    }\n",
       "\n",
       "    .dataframe thead th {\n",
       "        text-align: right;\n",
       "    }\n",
       "</style>\n",
       "<table border=\"1\" class=\"dataframe\">\n",
       "  <thead>\n",
       "    <tr style=\"text-align: right;\">\n",
       "      <th></th>\n",
       "      <th>uuid</th>\n",
       "      <th>adm4_pcode</th>\n",
       "      <th>date</th>\n",
       "      <th>rwi_max</th>\n",
       "      <th>rwi_mean</th>\n",
       "      <th>rwi_median</th>\n",
       "      <th>rwi_min</th>\n",
       "      <th>rwi_std</th>\n",
       "      <th>unnamed:_0</th>\n",
       "      <th>adm1_en</th>\n",
       "      <th>adm1_pcode</th>\n",
       "      <th>adm2_en</th>\n",
       "      <th>adm2_pcode</th>\n",
       "      <th>adm3_en</th>\n",
       "      <th>adm3_pcode</th>\n",
       "      <th>adm4_en</th>\n",
       "      <th>brgy_total_area</th>\n",
       "    </tr>\n",
       "  </thead>\n",
       "  <tbody>\n",
       "    <tr>\n",
       "      <th>0</th>\n",
       "      <td>tmrwi000000</td>\n",
       "      <td>ph015518001</td>\n",
       "      <td>2016-01-01</td>\n",
       "      <td>0.729052</td>\n",
       "      <td>0.668600</td>\n",
       "      <td>0.670609</td>\n",
       "      <td>0.636570</td>\n",
       "      <td>0.030640</td>\n",
       "      <td>735</td>\n",
       "      <td>region i</td>\n",
       "      <td>ph010000000</td>\n",
       "      <td>pangasinan</td>\n",
       "      <td>ph015500000</td>\n",
       "      <td>dagupan city</td>\n",
       "      <td>ph015518000</td>\n",
       "      <td>bacayao norte</td>\n",
       "      <td>0.6558</td>\n",
       "    </tr>\n",
       "    <tr>\n",
       "      <th>1</th>\n",
       "      <td>tmrwi000001</td>\n",
       "      <td>ph112402081</td>\n",
       "      <td>2016-01-01</td>\n",
       "      <td>0.657610</td>\n",
       "      <td>0.531397</td>\n",
       "      <td>0.530826</td>\n",
       "      <td>0.453885</td>\n",
       "      <td>0.035633</td>\n",
       "      <td>119</td>\n",
       "      <td>region xi</td>\n",
       "      <td>ph110000000</td>\n",
       "      <td>davao del sur</td>\n",
       "      <td>ph112400000</td>\n",
       "      <td>davao city</td>\n",
       "      <td>ph112402000</td>\n",
       "      <td>mulig</td>\n",
       "      <td>9.3236</td>\n",
       "    </tr>\n",
       "    <tr>\n",
       "      <th>2</th>\n",
       "      <td>tmrwi000002</td>\n",
       "      <td>ph063022043</td>\n",
       "      <td>2016-01-01</td>\n",
       "      <td>0.623478</td>\n",
       "      <td>0.605305</td>\n",
       "      <td>0.611521</td>\n",
       "      <td>0.580916</td>\n",
       "      <td>0.021951</td>\n",
       "      <td>35</td>\n",
       "      <td>region vi</td>\n",
       "      <td>ph060000000</td>\n",
       "      <td>iloilo</td>\n",
       "      <td>ph063000000</td>\n",
       "      <td>iloilo city</td>\n",
       "      <td>ph063022000</td>\n",
       "      <td>mabolo-delgado</td>\n",
       "      <td>0.0524</td>\n",
       "    </tr>\n",
       "    <tr>\n",
       "      <th>3</th>\n",
       "      <td>tmrwi000003</td>\n",
       "      <td>ph112402082</td>\n",
       "      <td>2016-01-01</td>\n",
       "      <td>0.590676</td>\n",
       "      <td>0.487690</td>\n",
       "      <td>0.484263</td>\n",
       "      <td>0.413577</td>\n",
       "      <td>0.038916</td>\n",
       "      <td>707</td>\n",
       "      <td>region xi</td>\n",
       "      <td>ph110000000</td>\n",
       "      <td>davao del sur</td>\n",
       "      <td>ph112400000</td>\n",
       "      <td>davao city</td>\n",
       "      <td>ph112402000</td>\n",
       "      <td>new carmen</td>\n",
       "      <td>11.1305</td>\n",
       "    </tr>\n",
       "    <tr>\n",
       "      <th>4</th>\n",
       "      <td>tmrwi000004</td>\n",
       "      <td>ph097332060</td>\n",
       "      <td>2016-01-01</td>\n",
       "      <td>0.462071</td>\n",
       "      <td>0.374796</td>\n",
       "      <td>0.366564</td>\n",
       "      <td>0.321981</td>\n",
       "      <td>0.033861</td>\n",
       "      <td>76</td>\n",
       "      <td>region ix</td>\n",
       "      <td>ph090000000</td>\n",
       "      <td>zamboanga del sur</td>\n",
       "      <td>ph097300000</td>\n",
       "      <td>zamboanga city</td>\n",
       "      <td>ph097332000</td>\n",
       "      <td>patalon</td>\n",
       "      <td>16.0204</td>\n",
       "    </tr>\n",
       "  </tbody>\n",
       "</table>\n",
       "</div>"
      ],
      "text/plain": [
       "          uuid   adm4_pcode       date   rwi_max  rwi_mean  rwi_median  \\\n",
       "0  tmrwi000000  ph015518001 2016-01-01  0.729052  0.668600    0.670609   \n",
       "1  tmrwi000001  ph112402081 2016-01-01  0.657610  0.531397    0.530826   \n",
       "2  tmrwi000002  ph063022043 2016-01-01  0.623478  0.605305    0.611521   \n",
       "3  tmrwi000003  ph112402082 2016-01-01  0.590676  0.487690    0.484263   \n",
       "4  tmrwi000004  ph097332060 2016-01-01  0.462071  0.374796    0.366564   \n",
       "\n",
       "    rwi_min   rwi_std  unnamed:_0    adm1_en   adm1_pcode            adm2_en  \\\n",
       "0  0.636570  0.030640         735   region i  ph010000000         pangasinan   \n",
       "1  0.453885  0.035633         119  region xi  ph110000000      davao del sur   \n",
       "2  0.580916  0.021951          35  region vi  ph060000000             iloilo   \n",
       "3  0.413577  0.038916         707  region xi  ph110000000      davao del sur   \n",
       "4  0.321981  0.033861          76  region ix  ph090000000  zamboanga del sur   \n",
       "\n",
       "    adm2_pcode         adm3_en   adm3_pcode         adm4_en  brgy_total_area  \n",
       "0  ph015500000    dagupan city  ph015518000   bacayao norte           0.6558  \n",
       "1  ph112400000      davao city  ph112402000           mulig           9.3236  \n",
       "2  ph063000000     iloilo city  ph063022000  mabolo-delgado           0.0524  \n",
       "3  ph112400000      davao city  ph112402000      new carmen          11.1305  \n",
       "4  ph097300000  zamboanga city  ph097332000         patalon          16.0204  "
      ]
     },
     "execution_count": 19,
     "metadata": {},
     "output_type": "execute_result"
    }
   ],
   "source": [
    "RWI_ILOILO.head()"
   ]
  },
  {
   "cell_type": "markdown",
   "id": "ed05c2c4-c714-4b7e-ace6-76f86d96346c",
   "metadata": {},
   "source": [
    "### Only selecting rows with Iloilo City as city name"
   ]
  },
  {
   "cell_type": "code",
   "execution_count": 20,
   "id": "b11913c1",
   "metadata": {},
   "outputs": [],
   "source": [
    "RWI_ILOILO = RWI_ILOILO[RWI_ILOILO['adm3_en'] == 'iloilo city']"
   ]
  },
  {
   "cell_type": "markdown",
   "id": "882e821e-9b11-47a8-937f-d390a319f503",
   "metadata": {},
   "source": [
    "### Dropping Irrelevant columns"
   ]
  },
  {
   "cell_type": "code",
   "execution_count": 21,
   "id": "4dd83b0e",
   "metadata": {},
   "outputs": [],
   "source": [
    "RWI_ILOILO = RWI_ILOILO.drop(columns=['unnamed:_0', 'adm1_en', 'adm1_pcode', 'adm2_en', 'adm2_pcode', 'adm3_en', 'adm3_pcode'])"
   ]
  },
  {
   "cell_type": "code",
   "execution_count": 26,
   "id": "d5bdba0d",
   "metadata": {},
   "outputs": [
    {
     "data": {
      "text/plain": [
       "(1260, 10)"
      ]
     },
     "execution_count": 26,
     "metadata": {},
     "output_type": "execute_result"
    }
   ],
   "source": [
    "RWI_ILOILO.shape"
   ]
  },
  {
   "cell_type": "markdown",
   "id": "19a1ea53-a3ae-47af-8e93-5c10f5973ea2",
   "metadata": {},
   "source": [
    "### Importing of Final RWI dataframe with respective locations as a csv file"
   ]
  },
  {
   "cell_type": "code",
   "execution_count": 27,
   "id": "e4898f74",
   "metadata": {},
   "outputs": [],
   "source": [
    "RWI_ILOILO.to_csv(\"RW_INDEX.csv\", index=False)"
   ]
  },
  {
   "cell_type": "code",
   "execution_count": null,
   "id": "235390da",
   "metadata": {},
   "outputs": [],
   "source": []
  }
 ],
 "metadata": {
  "kernelspec": {
   "display_name": "Python 3 (ipykernel)",
   "language": "python",
   "name": "python3"
  },
  "language_info": {
   "codemirror_mode": {
    "name": "ipython",
    "version": 3
   },
   "file_extension": ".py",
   "mimetype": "text/x-python",
   "name": "python",
   "nbconvert_exporter": "python",
   "pygments_lexer": "ipython3",
   "version": "3.11.7"
  }
 },
 "nbformat": 4,
 "nbformat_minor": 5
}
