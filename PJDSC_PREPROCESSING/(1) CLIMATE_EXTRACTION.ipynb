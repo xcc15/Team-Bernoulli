{
 "cells": [
  {
   "cell_type": "markdown",
   "id": "eae6c0c5",
   "metadata": {},
   "source": [
    "# KLIMATA ILOILO DATA EXTRACTION AND PREPROCESSING STAGE"
   ]
  },
  {
   "cell_type": "markdown",
   "id": "c2955c89",
   "metadata": {},
   "source": [
    "### As we start KLIMATA Iloilo, we extract and process the data from PROJECT CCHAIN. This jupyter notebook contains code that preprocesses both air and atmospheric data.\n",
    "\n",
    "### For the population and amenity dataset, we used Microsoft excel for the preprocessing."
   ]
  },
  {
   "cell_type": "markdown",
   "id": "eacd037c",
   "metadata": {},
   "source": [
    "### Importing essential libraries"
   ]
  },
  {
   "cell_type": "code",
   "execution_count": 1,
   "id": "75f9b916",
   "metadata": {},
   "outputs": [],
   "source": [
    "import pandas as pd\n",
    "import numpy as np\n",
    "import matplotlib.pyplot as plt"
   ]
  },
  {
   "cell_type": "markdown",
   "id": "00366665",
   "metadata": {},
   "source": [
    "### Importing CSV file for air quality"
   ]
  },
  {
   "cell_type": "code",
   "execution_count": 2,
   "id": "2b1dee27",
   "metadata": {},
   "outputs": [
    {
     "data": {
      "text/html": [
       "<div>\n",
       "<style scoped>\n",
       "    .dataframe tbody tr th:only-of-type {\n",
       "        vertical-align: middle;\n",
       "    }\n",
       "\n",
       "    .dataframe tbody tr th {\n",
       "        vertical-align: top;\n",
       "    }\n",
       "\n",
       "    .dataframe thead th {\n",
       "        text-align: right;\n",
       "    }\n",
       "</style>\n",
       "<table border=\"1\" class=\"dataframe\">\n",
       "  <thead>\n",
       "    <tr style=\"text-align: right;\">\n",
       "      <th></th>\n",
       "      <th>uuid</th>\n",
       "      <th>adm4_pcode</th>\n",
       "      <th>date</th>\n",
       "      <th>freq</th>\n",
       "      <th>no2</th>\n",
       "      <th>co</th>\n",
       "      <th>so2</th>\n",
       "      <th>o3</th>\n",
       "      <th>pm10</th>\n",
       "      <th>pm25</th>\n",
       "    </tr>\n",
       "  </thead>\n",
       "  <tbody>\n",
       "    <tr>\n",
       "      <th>0</th>\n",
       "      <td>CAIRQ000000</td>\n",
       "      <td>PH015518001</td>\n",
       "      <td>2003-01-02</td>\n",
       "      <td>D</td>\n",
       "      <td>3.66</td>\n",
       "      <td>0.1034</td>\n",
       "      <td>0.31</td>\n",
       "      <td>38.39</td>\n",
       "      <td>23.63</td>\n",
       "      <td>16.21</td>\n",
       "    </tr>\n",
       "    <tr>\n",
       "      <th>1</th>\n",
       "      <td>CAIRQ000001</td>\n",
       "      <td>PH015518001</td>\n",
       "      <td>2003-01-03</td>\n",
       "      <td>D</td>\n",
       "      <td>4.35</td>\n",
       "      <td>0.1010</td>\n",
       "      <td>0.70</td>\n",
       "      <td>38.37</td>\n",
       "      <td>34.43</td>\n",
       "      <td>23.82</td>\n",
       "    </tr>\n",
       "    <tr>\n",
       "      <th>2</th>\n",
       "      <td>CAIRQ000002</td>\n",
       "      <td>PH015518001</td>\n",
       "      <td>2003-01-04</td>\n",
       "      <td>D</td>\n",
       "      <td>3.82</td>\n",
       "      <td>0.1016</td>\n",
       "      <td>0.34</td>\n",
       "      <td>37.72</td>\n",
       "      <td>27.76</td>\n",
       "      <td>19.16</td>\n",
       "    </tr>\n",
       "    <tr>\n",
       "      <th>3</th>\n",
       "      <td>CAIRQ000003</td>\n",
       "      <td>PH015518001</td>\n",
       "      <td>2003-01-05</td>\n",
       "      <td>D</td>\n",
       "      <td>3.07</td>\n",
       "      <td>0.1053</td>\n",
       "      <td>0.24</td>\n",
       "      <td>38.44</td>\n",
       "      <td>31.26</td>\n",
       "      <td>20.64</td>\n",
       "    </tr>\n",
       "    <tr>\n",
       "      <th>4</th>\n",
       "      <td>CAIRQ000004</td>\n",
       "      <td>PH015518001</td>\n",
       "      <td>2003-01-06</td>\n",
       "      <td>D</td>\n",
       "      <td>3.02</td>\n",
       "      <td>0.0953</td>\n",
       "      <td>0.22</td>\n",
       "      <td>39.89</td>\n",
       "      <td>24.70</td>\n",
       "      <td>16.68</td>\n",
       "    </tr>\n",
       "  </tbody>\n",
       "</table>\n",
       "</div>"
      ],
      "text/plain": [
       "          uuid   adm4_pcode        date freq   no2      co   so2     o3  \\\n",
       "0  CAIRQ000000  PH015518001  2003-01-02    D  3.66  0.1034  0.31  38.39   \n",
       "1  CAIRQ000001  PH015518001  2003-01-03    D  4.35  0.1010  0.70  38.37   \n",
       "2  CAIRQ000002  PH015518001  2003-01-04    D  3.82  0.1016  0.34  37.72   \n",
       "3  CAIRQ000003  PH015518001  2003-01-05    D  3.07  0.1053  0.24  38.44   \n",
       "4  CAIRQ000004  PH015518001  2003-01-06    D  3.02  0.0953  0.22  39.89   \n",
       "\n",
       "    pm10   pm25  \n",
       "0  23.63  16.21  \n",
       "1  34.43  23.82  \n",
       "2  27.76  19.16  \n",
       "3  31.26  20.64  \n",
       "4  24.70  16.68  "
      ]
     },
     "execution_count": 2,
     "metadata": {},
     "output_type": "execute_result"
    }
   ],
   "source": [
    "air_df = pd.read_csv(r\"C:/Users/Value Lines/Documents/climate_air_quality.csv\")\n",
    "\n",
    "air_df.head()"
   ]
  },
  {
   "cell_type": "markdown",
   "id": "b541c94e",
   "metadata": {},
   "source": [
    "### Checking of air quality dataframe rows and columns"
   ]
  },
  {
   "cell_type": "code",
   "execution_count": 3,
   "id": "76075684",
   "metadata": {},
   "outputs": [
    {
     "data": {
      "text/plain": [
       "(6421095, 10)"
      ]
     },
     "execution_count": 3,
     "metadata": {},
     "output_type": "execute_result"
    }
   ],
   "source": [
    "air_df.shape"
   ]
  },
  {
   "cell_type": "markdown",
   "id": "57598afb",
   "metadata": {},
   "source": [
    "### Checking columns' datatype and null value counts"
   ]
  },
  {
   "cell_type": "code",
   "execution_count": 4,
   "id": "c2aaf0f6",
   "metadata": {},
   "outputs": [
    {
     "name": "stdout",
     "output_type": "stream",
     "text": [
      "<class 'pandas.core.frame.DataFrame'>\n",
      "RangeIndex: 6421095 entries, 0 to 6421094\n",
      "Data columns (total 10 columns):\n",
      " #   Column      Dtype  \n",
      "---  ------      -----  \n",
      " 0   uuid        object \n",
      " 1   adm4_pcode  object \n",
      " 2   date        object \n",
      " 3   freq        object \n",
      " 4   no2         float64\n",
      " 5   co          float64\n",
      " 6   so2         float64\n",
      " 7   o3          float64\n",
      " 8   pm10        float64\n",
      " 9   pm25        float64\n",
      "dtypes: float64(6), object(4)\n",
      "memory usage: 489.9+ MB\n",
      "None\n",
      "uuid            0\n",
      "adm4_pcode      0\n",
      "date            0\n",
      "freq            0\n",
      "no2           879\n",
      "co              0\n",
      "so2             0\n",
      "o3              0\n",
      "pm10          879\n",
      "pm25          879\n",
      "dtype: int64\n"
     ]
    }
   ],
   "source": [
    "print(air_df.info())\n",
    "print(air_df.isnull().sum())"
   ]
  },
  {
   "cell_type": "markdown",
   "id": "d61acf35",
   "metadata": {},
   "source": [
    "### Cleans up all column names for consistency"
   ]
  },
  {
   "cell_type": "code",
   "execution_count": 6,
   "id": "758e8f94",
   "metadata": {},
   "outputs": [],
   "source": [
    "air_df.columns = df.columns.str.strip().str.lower().str.replace(' ', '_')"
   ]
  },
  {
   "cell_type": "markdown",
   "id": "d3d08676",
   "metadata": {},
   "source": [
    "### Replacing of missing values with the median of the column"
   ]
  },
  {
   "cell_type": "code",
   "execution_count": 7,
   "id": "8974f8c6",
   "metadata": {},
   "outputs": [],
   "source": [
    "num_cols = air_df.select_dtypes(include=['float64', 'int64']).columns\n",
    "air_df[num_cols] = air_df[num_cols].fillna(air_df[num_cols].median())\n"
   ]
  },
  {
   "cell_type": "markdown",
   "id": "4d98ddd0",
   "metadata": {},
   "source": [
    "### Converting column 'date' into proper datetime format"
   ]
  },
  {
   "cell_type": "code",
   "execution_count": 8,
   "id": "87db1ee9",
   "metadata": {},
   "outputs": [],
   "source": [
    "if 'date' in air_df.columns:\n",
    "    air_df['date'] = pd.to_datetime(air_df['date'], errors='coerce')"
   ]
  },
  {
   "cell_type": "markdown",
   "id": "f6ac3525",
   "metadata": {},
   "source": [
    "### Cleans up all text (categorical)  columns in the air quality dataframe for consistency"
   ]
  },
  {
   "cell_type": "code",
   "execution_count": 9,
   "id": "1679fd4a",
   "metadata": {},
   "outputs": [],
   "source": [
    "cat_cols = air_df.select_dtypes(include=['object']).columns\n",
    "for col in cat_cols:\n",
    "    air_df[col] = air_df[col].str.strip().str.lower()"
   ]
  },
  {
   "cell_type": "markdown",
   "id": "8db13b3b",
   "metadata": {},
   "source": [
    "### Drops irrelavant column"
   ]
  },
  {
   "cell_type": "code",
   "execution_count": 10,
   "id": "a43bec7f",
   "metadata": {},
   "outputs": [],
   "source": [
    "air_df.drop(columns=['freq'], inplace=True)"
   ]
  },
  {
   "cell_type": "markdown",
   "id": "26ff7b60",
   "metadata": {},
   "source": [
    "### Viewing the preprocessed air quality dataframe"
   ]
  },
  {
   "cell_type": "markdown",
   "id": "db35daef",
   "metadata": {},
   "source": [
    "air_df.head(10)"
   ]
  },
  {
   "cell_type": "markdown",
   "id": "6a7d7772",
   "metadata": {},
   "source": [
    "### Importing of air quality dataframe as a csv file"
   ]
  },
  {
   "cell_type": "code",
   "execution_count": null,
   "id": "a9d0a588",
   "metadata": {},
   "outputs": [],
   "source": [
    "air_df.to_csv(\"AIR_PROCESSED.csv\", index=False)"
   ]
  },
  {
   "cell_type": "markdown",
   "id": "8ed8e61c",
   "metadata": {},
   "source": [
    "### After data preprocessing the air quality data from PROJECT CCHAIN, we proceeded to the next dataset which is the atmospheric data that included the heat index and rainfall estimates."
   ]
  },
  {
   "cell_type": "markdown",
   "id": "d7a6228d",
   "metadata": {},
   "source": [
    "### Importing CSV file for atmospheric data (heat index and rainfall estimates)"
   ]
  },
  {
   "cell_type": "code",
   "execution_count": 13,
   "id": "5e463116",
   "metadata": {},
   "outputs": [],
   "source": [
    "atmosphere_df = pd.read_csv(r'C:/Users/Value Lines/Documents/climate_atmosphere.csv')"
   ]
  },
  {
   "cell_type": "markdown",
   "id": "c69acdcf",
   "metadata": {},
   "source": [
    "### Checking of air quality dataframe rows and columns"
   ]
  },
  {
   "cell_type": "code",
   "execution_count": 14,
   "id": "441e27b1",
   "metadata": {},
   "outputs": [
    {
     "data": {
      "text/plain": [
       "(6421095, 13)"
      ]
     },
     "execution_count": 14,
     "metadata": {},
     "output_type": "execute_result"
    }
   ],
   "source": [
    "atmosphere_df.shape"
   ]
  },
  {
   "cell_type": "markdown",
   "id": "028612a1",
   "metadata": {},
   "source": [
    "### Viewing the atmospheric dataframe"
   ]
  },
  {
   "cell_type": "code",
   "execution_count": null,
   "id": "82f3d905",
   "metadata": {},
   "outputs": [],
   "source": [
    "atmosphere_df.head(10)"
   ]
  },
  {
   "cell_type": "markdown",
   "id": "52f87103",
   "metadata": {},
   "source": [
    "### Cleans up all column names for consistency"
   ]
  },
  {
   "cell_type": "code",
   "execution_count": 15,
   "id": "763c4c79",
   "metadata": {},
   "outputs": [],
   "source": [
    "atmosphere_df.columns = atmosphere_df.columns.str.strip().str.lower().str.replace(' ', '_')"
   ]
  },
  {
   "cell_type": "markdown",
   "id": "72dc066a",
   "metadata": {},
   "source": [
    "### Replacing of missing values with the median of the column"
   ]
  },
  {
   "cell_type": "code",
   "execution_count": 16,
   "id": "312d7fb8",
   "metadata": {},
   "outputs": [],
   "source": [
    "num_cols = atmosphere_df.select_dtypes(include=['float64', 'int64']).columns\n",
    "atmosphere_df[num_cols] = atmosphere_df[num_cols].fillna(atmosphere_df[num_cols].median())"
   ]
  },
  {
   "cell_type": "markdown",
   "id": "c414f1c5",
   "metadata": {},
   "source": [
    "### Checking columns' null value counts"
   ]
  },
  {
   "cell_type": "code",
   "execution_count": 17,
   "id": "f64a76d9",
   "metadata": {},
   "outputs": [
    {
     "name": "stdout",
     "output_type": "stream",
     "text": [
      "uuid          0\n",
      "adm4_pcode    0\n",
      "date          0\n",
      "freq          0\n",
      "tave          0\n",
      "tmin          0\n",
      "tmax          0\n",
      "heat_index    0\n",
      "pr            0\n",
      "wind_speed    0\n",
      "rh            0\n",
      "solar_rad     0\n",
      "uv_rad        0\n",
      "dtype: int64\n"
     ]
    }
   ],
   "source": [
    "print(atmosphere_df.isnull().sum())"
   ]
  },
  {
   "cell_type": "markdown",
   "id": "3d74ac0f",
   "metadata": {},
   "source": [
    "### Converting column 'date' into proper datetime format"
   ]
  },
  {
   "cell_type": "code",
   "execution_count": 18,
   "id": "034afe44",
   "metadata": {},
   "outputs": [],
   "source": [
    "if 'date' in atmosphere_df.columns:\n",
    "    atmosphere_df['date'] = pd.to_datetime(atmosphere_df['date'], errors='coerce')"
   ]
  },
  {
   "cell_type": "markdown",
   "id": "77014909",
   "metadata": {},
   "source": [
    "### Cleans up all text (categorical)  columns in the atmospheric dataframe for consistency"
   ]
  },
  {
   "cell_type": "code",
   "execution_count": 19,
   "id": "11a71eb5",
   "metadata": {},
   "outputs": [],
   "source": [
    "cat_cols = atmosphere_df.select_dtypes(include=['object']).columns\n",
    "for col in cat_cols:\n",
    "    atmosphere_df[col] = atmosphere_df[col].str.strip().str.lower()"
   ]
  },
  {
   "cell_type": "markdown",
   "id": "9ed6d61e",
   "metadata": {},
   "source": [
    "### Drops irrelavant column"
   ]
  },
  {
   "cell_type": "code",
   "execution_count": 20,
   "id": "29a73b92",
   "metadata": {},
   "outputs": [],
   "source": [
    "atmosphere_df.drop(columns=['freq'], inplace=True)"
   ]
  },
  {
   "cell_type": "markdown",
   "id": "4be052d3",
   "metadata": {},
   "source": [
    "### Importing of atmospheric dataframe as a csv file"
   ]
  },
  {
   "cell_type": "code",
   "execution_count": 25,
   "id": "50c09c07",
   "metadata": {},
   "outputs": [],
   "source": [
    "atmosphere_df.to_csv('ATMOSPHERE.csv', index=False)"
   ]
  }
 ],
 "metadata": {
  "kernelspec": {
   "display_name": "Python 3 (ipykernel)",
   "language": "python",
   "name": "python3"
  },
  "language_info": {
   "codemirror_mode": {
    "name": "ipython",
    "version": 3
   },
   "file_extension": ".py",
   "mimetype": "text/x-python",
   "name": "python",
   "nbconvert_exporter": "python",
   "pygments_lexer": "ipython3",
   "version": "3.11.4"
  }
 },
 "nbformat": 4,
 "nbformat_minor": 5
}
