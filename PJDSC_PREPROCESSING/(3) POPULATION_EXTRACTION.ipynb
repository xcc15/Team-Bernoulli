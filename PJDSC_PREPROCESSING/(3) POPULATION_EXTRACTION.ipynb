{
 "cells": [
  {
   "cell_type": "markdown",
   "id": "d61a4e47-6ede-4c5b-9e11-e8e1f59f89a5",
   "metadata": {},
   "source": [
    "# KLIMATA ILOILO DATA EXTRACTION AND PREPROCESSING STAGE"
   ]
  },
  {
   "cell_type": "markdown",
   "id": "e6740691-0e89-4251-82d2-6eb4836face7",
   "metadata": {},
   "source": [
    "### We also extract and process the Population data . This jupyter notebook contains code that preprocesses Population data."
   ]
  },
  {
   "cell_type": "markdown",
   "id": "ca488315-2e08-47e5-9011-b5332fe47623",
   "metadata": {},
   "source": [
    "### Importing essential libraries"
   ]
  },
  {
   "cell_type": "code",
   "execution_count": 1,
   "id": "a1fefef7",
   "metadata": {},
   "outputs": [],
   "source": [
    "import pandas as pd\n",
    "import numpy as np"
   ]
  },
  {
   "cell_type": "markdown",
   "id": "7e3ecdc8-21a3-4824-b9ff-d0f929e53dec",
   "metadata": {},
   "source": [
    "### Importing CSV file for Population"
   ]
  },
  {
   "cell_type": "code",
   "execution_count": 2,
   "id": "ea7c2130",
   "metadata": {},
   "outputs": [],
   "source": [
    "pop_df = pd.read_csv(\"worldpop_population.csv\")"
   ]
  },
  {
   "cell_type": "code",
   "execution_count": 3,
   "id": "29fdd365",
   "metadata": {},
   "outputs": [
    {
     "data": {
      "text/html": [
       "<div>\n",
       "<style scoped>\n",
       "    .dataframe tbody tr th:only-of-type {\n",
       "        vertical-align: middle;\n",
       "    }\n",
       "\n",
       "    .dataframe tbody tr th {\n",
       "        vertical-align: top;\n",
       "    }\n",
       "\n",
       "    .dataframe thead th {\n",
       "        text-align: right;\n",
       "    }\n",
       "</style>\n",
       "<table border=\"1\" class=\"dataframe\">\n",
       "  <thead>\n",
       "    <tr style=\"text-align: right;\">\n",
       "      <th></th>\n",
       "      <th>uuid</th>\n",
       "      <th>adm4_pcode</th>\n",
       "      <th>date</th>\n",
       "      <th>freq</th>\n",
       "      <th>pop_count_total</th>\n",
       "      <th>pop_count_mean</th>\n",
       "      <th>pop_count_median</th>\n",
       "      <th>pop_count_stdev</th>\n",
       "      <th>pop_count_min</th>\n",
       "      <th>pop_count_max</th>\n",
       "      <th>pop_density_mean</th>\n",
       "      <th>pop_density_median</th>\n",
       "      <th>pop_density_stdev</th>\n",
       "      <th>pop_density_min</th>\n",
       "      <th>pop_density_max</th>\n",
       "    </tr>\n",
       "  </thead>\n",
       "  <tbody>\n",
       "    <tr>\n",
       "      <th>0</th>\n",
       "      <td>WDPOP000000</td>\n",
       "      <td>PH137503007</td>\n",
       "      <td>2000-01-01</td>\n",
       "      <td>Y</td>\n",
       "      <td>3350.263672</td>\n",
       "      <td>558.377279</td>\n",
       "      <td>545.798828</td>\n",
       "      <td>48.654772</td>\n",
       "      <td>516.175537</td>\n",
       "      <td>661.617249</td>\n",
       "      <td>NaN</td>\n",
       "      <td>NaN</td>\n",
       "      <td>NaN</td>\n",
       "      <td>NaN</td>\n",
       "      <td>NaN</td>\n",
       "    </tr>\n",
       "    <tr>\n",
       "      <th>1</th>\n",
       "      <td>WDPOP000001</td>\n",
       "      <td>PH063022152</td>\n",
       "      <td>2000-01-01</td>\n",
       "      <td>Y</td>\n",
       "      <td>1492.030518</td>\n",
       "      <td>14.346447</td>\n",
       "      <td>14.088117</td>\n",
       "      <td>9.941083</td>\n",
       "      <td>1.157729</td>\n",
       "      <td>39.577888</td>\n",
       "      <td>1747.875977</td>\n",
       "      <td>1747.875977</td>\n",
       "      <td>0.0</td>\n",
       "      <td>1747.875977</td>\n",
       "      <td>1747.875977</td>\n",
       "    </tr>\n",
       "    <tr>\n",
       "      <th>2</th>\n",
       "      <td>WDPOP000002</td>\n",
       "      <td>PH063022015</td>\n",
       "      <td>2000-01-01</td>\n",
       "      <td>Y</td>\n",
       "      <td>688.092651</td>\n",
       "      <td>45.872843</td>\n",
       "      <td>46.660271</td>\n",
       "      <td>6.994909</td>\n",
       "      <td>30.479767</td>\n",
       "      <td>55.304688</td>\n",
       "      <td>NaN</td>\n",
       "      <td>NaN</td>\n",
       "      <td>NaN</td>\n",
       "      <td>NaN</td>\n",
       "      <td>NaN</td>\n",
       "    </tr>\n",
       "    <tr>\n",
       "      <th>3</th>\n",
       "      <td>WDPOP000003</td>\n",
       "      <td>PH063022118</td>\n",
       "      <td>2000-01-01</td>\n",
       "      <td>Y</td>\n",
       "      <td>1734.744507</td>\n",
       "      <td>133.441885</td>\n",
       "      <td>18.758980</td>\n",
       "      <td>247.449747</td>\n",
       "      <td>11.151038</td>\n",
       "      <td>968.687927</td>\n",
       "      <td>NaN</td>\n",
       "      <td>NaN</td>\n",
       "      <td>NaN</td>\n",
       "      <td>NaN</td>\n",
       "      <td>NaN</td>\n",
       "    </tr>\n",
       "    <tr>\n",
       "      <th>4</th>\n",
       "      <td>WDPOP000004</td>\n",
       "      <td>PH050506019</td>\n",
       "      <td>2000-01-01</td>\n",
       "      <td>Y</td>\n",
       "      <td>268.516998</td>\n",
       "      <td>29.835222</td>\n",
       "      <td>21.024340</td>\n",
       "      <td>20.024697</td>\n",
       "      <td>14.085201</td>\n",
       "      <td>67.157532</td>\n",
       "      <td>NaN</td>\n",
       "      <td>NaN</td>\n",
       "      <td>NaN</td>\n",
       "      <td>NaN</td>\n",
       "      <td>NaN</td>\n",
       "    </tr>\n",
       "  </tbody>\n",
       "</table>\n",
       "</div>"
      ],
      "text/plain": [
       "          uuid   adm4_pcode        date freq  pop_count_total  pop_count_mean  \\\n",
       "0  WDPOP000000  PH137503007  2000-01-01    Y      3350.263672      558.377279   \n",
       "1  WDPOP000001  PH063022152  2000-01-01    Y      1492.030518       14.346447   \n",
       "2  WDPOP000002  PH063022015  2000-01-01    Y       688.092651       45.872843   \n",
       "3  WDPOP000003  PH063022118  2000-01-01    Y      1734.744507      133.441885   \n",
       "4  WDPOP000004  PH050506019  2000-01-01    Y       268.516998       29.835222   \n",
       "\n",
       "   pop_count_median  pop_count_stdev  pop_count_min  pop_count_max  \\\n",
       "0        545.798828        48.654772     516.175537     661.617249   \n",
       "1         14.088117         9.941083       1.157729      39.577888   \n",
       "2         46.660271         6.994909      30.479767      55.304688   \n",
       "3         18.758980       247.449747      11.151038     968.687927   \n",
       "4         21.024340        20.024697      14.085201      67.157532   \n",
       "\n",
       "   pop_density_mean  pop_density_median  pop_density_stdev  pop_density_min  \\\n",
       "0               NaN                 NaN                NaN              NaN   \n",
       "1       1747.875977         1747.875977                0.0      1747.875977   \n",
       "2               NaN                 NaN                NaN              NaN   \n",
       "3               NaN                 NaN                NaN              NaN   \n",
       "4               NaN                 NaN                NaN              NaN   \n",
       "\n",
       "   pop_density_max  \n",
       "0              NaN  \n",
       "1      1747.875977  \n",
       "2              NaN  \n",
       "3              NaN  \n",
       "4              NaN  "
      ]
     },
     "execution_count": 3,
     "metadata": {},
     "output_type": "execute_result"
    }
   ],
   "source": [
    "pop_df.head()"
   ]
  },
  {
   "cell_type": "markdown",
   "id": "70916dd4-1fea-4b5b-bd6c-27028c6702c2",
   "metadata": {},
   "source": [
    "### Checking of Population dataframe rows and columns"
   ]
  },
  {
   "cell_type": "code",
   "execution_count": 6,
   "id": "ba125d29",
   "metadata": {},
   "outputs": [
    {
     "data": {
      "text/plain": [
       "(18459, 15)"
      ]
     },
     "execution_count": 6,
     "metadata": {},
     "output_type": "execute_result"
    }
   ],
   "source": [
    "pop_df.shape"
   ]
  },
  {
   "cell_type": "markdown",
   "id": "a361b7e7-bce2-4807-84c1-b1b2fb9abb4d",
   "metadata": {},
   "source": [
    "### Checking columns' null value counts"
   ]
  },
  {
   "cell_type": "code",
   "execution_count": 11,
   "id": "3695a624",
   "metadata": {},
   "outputs": [
    {
     "data": {
      "text/plain": [
       "uuid                 0\n",
       "adm4_pcode           0\n",
       "date                 0\n",
       "pop_count_total     21\n",
       "pop_count_mean      21\n",
       "pop_count_median    21\n",
       "pop_count_stdev     21\n",
       "pop_count_min       21\n",
       "pop_count_max       21\n",
       "dtype: int64"
      ]
     },
     "execution_count": 11,
     "metadata": {},
     "output_type": "execute_result"
    }
   ],
   "source": [
    "pop_df.isnull().sum()"
   ]
  },
  {
   "cell_type": "markdown",
   "id": "0226259d-7c64-4983-a01c-b9defac5256e",
   "metadata": {},
   "source": [
    "### Dropping irrelevant columns"
   ]
  },
  {
   "cell_type": "code",
   "execution_count": 8,
   "id": "15668ecf",
   "metadata": {},
   "outputs": [],
   "source": [
    "pop_df = pop_df.drop(columns=['freq'])"
   ]
  },
  {
   "cell_type": "markdown",
   "id": "7b49a15f-7cb4-4876-b3da-7304538db861",
   "metadata": {},
   "source": [
    "### Cleans up all column names for consistency"
   ]
  },
  {
   "cell_type": "code",
   "execution_count": 10,
   "id": "e80d2a14",
   "metadata": {},
   "outputs": [],
   "source": [
    "pop_df.columns = pop_df.columns.str.strip().str.lower().str.replace(' ', '_')"
   ]
  },
  {
   "cell_type": "markdown",
   "id": "2a3154b6-b58f-426e-a91e-b871c08489e1",
   "metadata": {},
   "source": [
    "### Replacing of missing values with the median of the column"
   ]
  },
  {
   "cell_type": "code",
   "execution_count": 13,
   "id": "e0fdd3ab",
   "metadata": {},
   "outputs": [],
   "source": [
    "num_cols = pop_df.select_dtypes(include=['float64', 'int64']).columns\n",
    "pop_df[num_cols] = pop_df[num_cols].fillna(pop_df[num_cols].median())\n"
   ]
  },
  {
   "cell_type": "markdown",
   "id": "afd4648a-4e1d-4fa6-ad13-f382a225c367",
   "metadata": {},
   "source": [
    "### Converting column 'date' into proper datetime format"
   ]
  },
  {
   "cell_type": "code",
   "execution_count": 15,
   "id": "20bff122",
   "metadata": {},
   "outputs": [],
   "source": [
    "if 'date' in pop_df.columns:\n",
    "    pop_df['date'] = pd.to_datetime(pop_df['date'], errors='coerce')"
   ]
  },
  {
   "cell_type": "markdown",
   "id": "dc935aad-76d6-449c-abb2-bbab80f9faa6",
   "metadata": {},
   "source": [
    "### Cleans up all text (categorical)  columns in the Population dataframe for consistency"
   ]
  },
  {
   "cell_type": "code",
   "execution_count": 16,
   "id": "b758e546",
   "metadata": {},
   "outputs": [],
   "source": [
    "cat_cols = pop_df.select_dtypes(include=['object']).columns\n",
    "for col in cat_cols:\n",
    "    pop_df[col] = pop_df[col].str.strip().str.lower()"
   ]
  },
  {
   "cell_type": "code",
   "execution_count": 17,
   "id": "9392c498",
   "metadata": {},
   "outputs": [
    {
     "data": {
      "text/html": [
       "<div>\n",
       "<style scoped>\n",
       "    .dataframe tbody tr th:only-of-type {\n",
       "        vertical-align: middle;\n",
       "    }\n",
       "\n",
       "    .dataframe tbody tr th {\n",
       "        vertical-align: top;\n",
       "    }\n",
       "\n",
       "    .dataframe thead th {\n",
       "        text-align: right;\n",
       "    }\n",
       "</style>\n",
       "<table border=\"1\" class=\"dataframe\">\n",
       "  <thead>\n",
       "    <tr style=\"text-align: right;\">\n",
       "      <th></th>\n",
       "      <th>uuid</th>\n",
       "      <th>adm4_pcode</th>\n",
       "      <th>date</th>\n",
       "      <th>pop_count_total</th>\n",
       "      <th>pop_count_mean</th>\n",
       "      <th>pop_count_median</th>\n",
       "      <th>pop_count_stdev</th>\n",
       "      <th>pop_count_min</th>\n",
       "      <th>pop_count_max</th>\n",
       "    </tr>\n",
       "  </thead>\n",
       "  <tbody>\n",
       "    <tr>\n",
       "      <th>0</th>\n",
       "      <td>wdpop000000</td>\n",
       "      <td>ph137503007</td>\n",
       "      <td>2000-01-01</td>\n",
       "      <td>3350.263672</td>\n",
       "      <td>558.377279</td>\n",
       "      <td>545.798828</td>\n",
       "      <td>48.654772</td>\n",
       "      <td>516.175537</td>\n",
       "      <td>661.617249</td>\n",
       "    </tr>\n",
       "    <tr>\n",
       "      <th>1</th>\n",
       "      <td>wdpop000001</td>\n",
       "      <td>ph063022152</td>\n",
       "      <td>2000-01-01</td>\n",
       "      <td>1492.030518</td>\n",
       "      <td>14.346447</td>\n",
       "      <td>14.088117</td>\n",
       "      <td>9.941083</td>\n",
       "      <td>1.157729</td>\n",
       "      <td>39.577888</td>\n",
       "    </tr>\n",
       "    <tr>\n",
       "      <th>2</th>\n",
       "      <td>wdpop000002</td>\n",
       "      <td>ph063022015</td>\n",
       "      <td>2000-01-01</td>\n",
       "      <td>688.092651</td>\n",
       "      <td>45.872843</td>\n",
       "      <td>46.660271</td>\n",
       "      <td>6.994909</td>\n",
       "      <td>30.479767</td>\n",
       "      <td>55.304688</td>\n",
       "    </tr>\n",
       "    <tr>\n",
       "      <th>3</th>\n",
       "      <td>wdpop000003</td>\n",
       "      <td>ph063022118</td>\n",
       "      <td>2000-01-01</td>\n",
       "      <td>1734.744507</td>\n",
       "      <td>133.441885</td>\n",
       "      <td>18.758980</td>\n",
       "      <td>247.449747</td>\n",
       "      <td>11.151038</td>\n",
       "      <td>968.687927</td>\n",
       "    </tr>\n",
       "    <tr>\n",
       "      <th>4</th>\n",
       "      <td>wdpop000004</td>\n",
       "      <td>ph050506019</td>\n",
       "      <td>2000-01-01</td>\n",
       "      <td>268.516998</td>\n",
       "      <td>29.835222</td>\n",
       "      <td>21.024340</td>\n",
       "      <td>20.024697</td>\n",
       "      <td>14.085201</td>\n",
       "      <td>67.157532</td>\n",
       "    </tr>\n",
       "  </tbody>\n",
       "</table>\n",
       "</div>"
      ],
      "text/plain": [
       "          uuid   adm4_pcode       date  pop_count_total  pop_count_mean  \\\n",
       "0  wdpop000000  ph137503007 2000-01-01      3350.263672      558.377279   \n",
       "1  wdpop000001  ph063022152 2000-01-01      1492.030518       14.346447   \n",
       "2  wdpop000002  ph063022015 2000-01-01       688.092651       45.872843   \n",
       "3  wdpop000003  ph063022118 2000-01-01      1734.744507      133.441885   \n",
       "4  wdpop000004  ph050506019 2000-01-01       268.516998       29.835222   \n",
       "\n",
       "   pop_count_median  pop_count_stdev  pop_count_min  pop_count_max  \n",
       "0        545.798828        48.654772     516.175537     661.617249  \n",
       "1         14.088117         9.941083       1.157729      39.577888  \n",
       "2         46.660271         6.994909      30.479767      55.304688  \n",
       "3         18.758980       247.449747      11.151038     968.687927  \n",
       "4         21.024340        20.024697      14.085201      67.157532  "
      ]
     },
     "execution_count": 17,
     "metadata": {},
     "output_type": "execute_result"
    }
   ],
   "source": [
    "pop_df.head()"
   ]
  },
  {
   "cell_type": "markdown",
   "id": "acebfdbb-b586-45c2-b50c-9705087456e8",
   "metadata": {},
   "source": [
    "### Checking columns' null value counts"
   ]
  },
  {
   "cell_type": "code",
   "execution_count": 19,
   "id": "3c0dca09",
   "metadata": {},
   "outputs": [
    {
     "data": {
      "text/plain": [
       "uuid                0\n",
       "adm4_pcode          0\n",
       "date                0\n",
       "pop_count_total     0\n",
       "pop_count_mean      0\n",
       "pop_count_median    0\n",
       "pop_count_stdev     0\n",
       "pop_count_min       0\n",
       "pop_count_max       0\n",
       "dtype: int64"
      ]
     },
     "execution_count": 19,
     "metadata": {},
     "output_type": "execute_result"
    }
   ],
   "source": [
    "pop_df.isnull().sum()"
   ]
  },
  {
   "cell_type": "markdown",
   "id": "44112aed-1d77-46b4-b52e-318b4a196b80",
   "metadata": {},
   "source": [
    "### Importing of location dataframe as a csv file"
   ]
  },
  {
   "cell_type": "code",
   "execution_count": 20,
   "id": "056a4fb1",
   "metadata": {},
   "outputs": [],
   "source": [
    "location_df = pd.read_csv(\"LOCATION.csv\")"
   ]
  },
  {
   "cell_type": "markdown",
   "id": "8de71b7e-0ea8-4aac-9365-c5fc88de9b64",
   "metadata": {},
   "source": [
    "### Merging Population and Location dataframe"
   ]
  },
  {
   "cell_type": "code",
   "execution_count": 21,
   "id": "23e5629d",
   "metadata": {},
   "outputs": [],
   "source": [
    "POP_ILOILO = pd.merge(pop_df, location_df, on=\"adm4_pcode\", how='inner')"
   ]
  },
  {
   "cell_type": "code",
   "execution_count": 23,
   "id": "05e3b4cd",
   "metadata": {},
   "outputs": [
    {
     "data": {
      "text/html": [
       "<div>\n",
       "<style scoped>\n",
       "    .dataframe tbody tr th:only-of-type {\n",
       "        vertical-align: middle;\n",
       "    }\n",
       "\n",
       "    .dataframe tbody tr th {\n",
       "        vertical-align: top;\n",
       "    }\n",
       "\n",
       "    .dataframe thead th {\n",
       "        text-align: right;\n",
       "    }\n",
       "</style>\n",
       "<table border=\"1\" class=\"dataframe\">\n",
       "  <thead>\n",
       "    <tr style=\"text-align: right;\">\n",
       "      <th></th>\n",
       "      <th>uuid</th>\n",
       "      <th>adm4_pcode</th>\n",
       "      <th>date</th>\n",
       "      <th>pop_count_total</th>\n",
       "      <th>pop_count_mean</th>\n",
       "      <th>pop_count_median</th>\n",
       "      <th>pop_count_stdev</th>\n",
       "      <th>pop_count_min</th>\n",
       "      <th>pop_count_max</th>\n",
       "      <th>unnamed:_0</th>\n",
       "      <th>adm1_en</th>\n",
       "      <th>adm1_pcode</th>\n",
       "      <th>adm2_en</th>\n",
       "      <th>adm2_pcode</th>\n",
       "      <th>adm3_en</th>\n",
       "      <th>adm3_pcode</th>\n",
       "      <th>adm4_en</th>\n",
       "      <th>brgy_total_area</th>\n",
       "    </tr>\n",
       "  </thead>\n",
       "  <tbody>\n",
       "    <tr>\n",
       "      <th>0</th>\n",
       "      <td>wdpop000000</td>\n",
       "      <td>ph137503007</td>\n",
       "      <td>2000-01-01</td>\n",
       "      <td>3350.263672</td>\n",
       "      <td>558.377279</td>\n",
       "      <td>545.798828</td>\n",
       "      <td>48.654772</td>\n",
       "      <td>516.175537</td>\n",
       "      <td>661.617249</td>\n",
       "      <td>876</td>\n",
       "      <td>national capital region</td>\n",
       "      <td>ph130000000</td>\n",
       "      <td>ncr, third district</td>\n",
       "      <td>ph137500000</td>\n",
       "      <td>city of navotas</td>\n",
       "      <td>ph137503000</td>\n",
       "      <td>navotas west</td>\n",
       "      <td>0.0581</td>\n",
       "    </tr>\n",
       "    <tr>\n",
       "      <th>1</th>\n",
       "      <td>wdpop000001</td>\n",
       "      <td>ph063022152</td>\n",
       "      <td>2000-01-01</td>\n",
       "      <td>1492.030518</td>\n",
       "      <td>14.346447</td>\n",
       "      <td>14.088117</td>\n",
       "      <td>9.941083</td>\n",
       "      <td>1.157729</td>\n",
       "      <td>39.577888</td>\n",
       "      <td>295</td>\n",
       "      <td>region vi</td>\n",
       "      <td>ph060000000</td>\n",
       "      <td>iloilo</td>\n",
       "      <td>ph063000000</td>\n",
       "      <td>iloilo city</td>\n",
       "      <td>ph063022000</td>\n",
       "      <td>hibao-an norte</td>\n",
       "      <td>0.8800</td>\n",
       "    </tr>\n",
       "    <tr>\n",
       "      <th>2</th>\n",
       "      <td>wdpop000002</td>\n",
       "      <td>ph063022015</td>\n",
       "      <td>2000-01-01</td>\n",
       "      <td>688.092651</td>\n",
       "      <td>45.872843</td>\n",
       "      <td>46.660271</td>\n",
       "      <td>6.994909</td>\n",
       "      <td>30.479767</td>\n",
       "      <td>55.304688</td>\n",
       "      <td>294</td>\n",
       "      <td>region vi</td>\n",
       "      <td>ph060000000</td>\n",
       "      <td>iloilo</td>\n",
       "      <td>ph063000000</td>\n",
       "      <td>iloilo city</td>\n",
       "      <td>ph063022000</td>\n",
       "      <td>bantud</td>\n",
       "      <td>0.1261</td>\n",
       "    </tr>\n",
       "    <tr>\n",
       "      <th>3</th>\n",
       "      <td>wdpop000003</td>\n",
       "      <td>ph063022118</td>\n",
       "      <td>2000-01-01</td>\n",
       "      <td>1734.744507</td>\n",
       "      <td>133.441885</td>\n",
       "      <td>18.758980</td>\n",
       "      <td>247.449747</td>\n",
       "      <td>11.151038</td>\n",
       "      <td>968.687927</td>\n",
       "      <td>293</td>\n",
       "      <td>region vi</td>\n",
       "      <td>ph060000000</td>\n",
       "      <td>iloilo</td>\n",
       "      <td>ph063000000</td>\n",
       "      <td>iloilo city</td>\n",
       "      <td>ph063022000</td>\n",
       "      <td>north baluarte</td>\n",
       "      <td>0.1259</td>\n",
       "    </tr>\n",
       "    <tr>\n",
       "      <th>4</th>\n",
       "      <td>wdpop000004</td>\n",
       "      <td>ph050506019</td>\n",
       "      <td>2000-01-01</td>\n",
       "      <td>268.516998</td>\n",
       "      <td>29.835222</td>\n",
       "      <td>21.024340</td>\n",
       "      <td>20.024697</td>\n",
       "      <td>14.085201</td>\n",
       "      <td>67.157532</td>\n",
       "      <td>292</td>\n",
       "      <td>region v</td>\n",
       "      <td>ph050000000</td>\n",
       "      <td>albay</td>\n",
       "      <td>ph050500000</td>\n",
       "      <td>legazpi city</td>\n",
       "      <td>ph050506000</td>\n",
       "      <td>bgy. 22 - binanuahan east (pob.)</td>\n",
       "      <td>0.0763</td>\n",
       "    </tr>\n",
       "  </tbody>\n",
       "</table>\n",
       "</div>"
      ],
      "text/plain": [
       "          uuid   adm4_pcode       date  pop_count_total  pop_count_mean  \\\n",
       "0  wdpop000000  ph137503007 2000-01-01      3350.263672      558.377279   \n",
       "1  wdpop000001  ph063022152 2000-01-01      1492.030518       14.346447   \n",
       "2  wdpop000002  ph063022015 2000-01-01       688.092651       45.872843   \n",
       "3  wdpop000003  ph063022118 2000-01-01      1734.744507      133.441885   \n",
       "4  wdpop000004  ph050506019 2000-01-01       268.516998       29.835222   \n",
       "\n",
       "   pop_count_median  pop_count_stdev  pop_count_min  pop_count_max  \\\n",
       "0        545.798828        48.654772     516.175537     661.617249   \n",
       "1         14.088117         9.941083       1.157729      39.577888   \n",
       "2         46.660271         6.994909      30.479767      55.304688   \n",
       "3         18.758980       247.449747      11.151038     968.687927   \n",
       "4         21.024340        20.024697      14.085201      67.157532   \n",
       "\n",
       "   unnamed:_0                  adm1_en   adm1_pcode              adm2_en  \\\n",
       "0         876  national capital region  ph130000000  ncr, third district   \n",
       "1         295                region vi  ph060000000               iloilo   \n",
       "2         294                region vi  ph060000000               iloilo   \n",
       "3         293                region vi  ph060000000               iloilo   \n",
       "4         292                 region v  ph050000000                albay   \n",
       "\n",
       "    adm2_pcode          adm3_en   adm3_pcode  \\\n",
       "0  ph137500000  city of navotas  ph137503000   \n",
       "1  ph063000000      iloilo city  ph063022000   \n",
       "2  ph063000000      iloilo city  ph063022000   \n",
       "3  ph063000000      iloilo city  ph063022000   \n",
       "4  ph050500000     legazpi city  ph050506000   \n",
       "\n",
       "                            adm4_en  brgy_total_area  \n",
       "0                      navotas west           0.0581  \n",
       "1                    hibao-an norte           0.8800  \n",
       "2                            bantud           0.1261  \n",
       "3                    north baluarte           0.1259  \n",
       "4  bgy. 22 - binanuahan east (pob.)           0.0763  "
      ]
     },
     "execution_count": 23,
     "metadata": {},
     "output_type": "execute_result"
    }
   ],
   "source": [
    "POP_ILOILO.head()"
   ]
  },
  {
   "cell_type": "code",
   "execution_count": 24,
   "id": "a37e605d",
   "metadata": {},
   "outputs": [],
   "source": [
    "POP_ILOILO = POP_ILOILO[POP_ILOILO['adm3_en'] == 'iloilo city']"
   ]
  },
  {
   "cell_type": "markdown",
   "id": "0a4cfa43-c0e5-4dc3-8016-ec20c70bad7c",
   "metadata": {},
   "source": [
    "### Drops irrelavant column"
   ]
  },
  {
   "cell_type": "code",
   "execution_count": 25,
   "id": "b535aca4",
   "metadata": {},
   "outputs": [],
   "source": [
    "POP_ILOILO = POP_ILOILO.drop(columns=['unnamed:_0', 'adm1_en', 'adm1_pcode', 'adm2_en', 'adm2_pcode', 'adm3_en', 'adm3_pcode'])"
   ]
  },
  {
   "cell_type": "code",
   "execution_count": 26,
   "id": "8146c8fd",
   "metadata": {},
   "outputs": [
    {
     "data": {
      "text/html": [
       "<div>\n",
       "<style scoped>\n",
       "    .dataframe tbody tr th:only-of-type {\n",
       "        vertical-align: middle;\n",
       "    }\n",
       "\n",
       "    .dataframe tbody tr th {\n",
       "        vertical-align: top;\n",
       "    }\n",
       "\n",
       "    .dataframe thead th {\n",
       "        text-align: right;\n",
       "    }\n",
       "</style>\n",
       "<table border=\"1\" class=\"dataframe\">\n",
       "  <thead>\n",
       "    <tr style=\"text-align: right;\">\n",
       "      <th></th>\n",
       "      <th>uuid</th>\n",
       "      <th>adm4_pcode</th>\n",
       "      <th>date</th>\n",
       "      <th>pop_count_total</th>\n",
       "      <th>pop_count_mean</th>\n",
       "      <th>pop_count_median</th>\n",
       "      <th>pop_count_stdev</th>\n",
       "      <th>pop_count_min</th>\n",
       "      <th>pop_count_max</th>\n",
       "      <th>adm4_en</th>\n",
       "      <th>brgy_total_area</th>\n",
       "    </tr>\n",
       "  </thead>\n",
       "  <tbody>\n",
       "    <tr>\n",
       "      <th>1</th>\n",
       "      <td>wdpop000001</td>\n",
       "      <td>ph063022152</td>\n",
       "      <td>2000-01-01</td>\n",
       "      <td>1492.030518</td>\n",
       "      <td>14.346447</td>\n",
       "      <td>14.088117</td>\n",
       "      <td>9.941083</td>\n",
       "      <td>1.157729</td>\n",
       "      <td>39.577888</td>\n",
       "      <td>hibao-an norte</td>\n",
       "      <td>0.8800</td>\n",
       "    </tr>\n",
       "    <tr>\n",
       "      <th>2</th>\n",
       "      <td>wdpop000002</td>\n",
       "      <td>ph063022015</td>\n",
       "      <td>2000-01-01</td>\n",
       "      <td>688.092651</td>\n",
       "      <td>45.872843</td>\n",
       "      <td>46.660271</td>\n",
       "      <td>6.994909</td>\n",
       "      <td>30.479767</td>\n",
       "      <td>55.304688</td>\n",
       "      <td>bantud</td>\n",
       "      <td>0.1261</td>\n",
       "    </tr>\n",
       "    <tr>\n",
       "      <th>3</th>\n",
       "      <td>wdpop000003</td>\n",
       "      <td>ph063022118</td>\n",
       "      <td>2000-01-01</td>\n",
       "      <td>1734.744507</td>\n",
       "      <td>133.441885</td>\n",
       "      <td>18.758980</td>\n",
       "      <td>247.449747</td>\n",
       "      <td>11.151038</td>\n",
       "      <td>968.687927</td>\n",
       "      <td>north baluarte</td>\n",
       "      <td>0.1259</td>\n",
       "    </tr>\n",
       "    <tr>\n",
       "      <th>24</th>\n",
       "      <td>wdpop000018</td>\n",
       "      <td>ph063022040</td>\n",
       "      <td>2000-01-01</td>\n",
       "      <td>1891.350830</td>\n",
       "      <td>61.011317</td>\n",
       "      <td>60.119343</td>\n",
       "      <td>28.049733</td>\n",
       "      <td>17.409624</td>\n",
       "      <td>128.819382</td>\n",
       "      <td>cuartero</td>\n",
       "      <td>0.2656</td>\n",
       "    </tr>\n",
       "    <tr>\n",
       "      <th>25</th>\n",
       "      <td>wdpop000019</td>\n",
       "      <td>ph063022020</td>\n",
       "      <td>2000-01-01</td>\n",
       "      <td>2018.401123</td>\n",
       "      <td>288.343018</td>\n",
       "      <td>268.530884</td>\n",
       "      <td>124.519965</td>\n",
       "      <td>130.097717</td>\n",
       "      <td>472.024048</td>\n",
       "      <td>monica blumentritt</td>\n",
       "      <td>0.0626</td>\n",
       "    </tr>\n",
       "  </tbody>\n",
       "</table>\n",
       "</div>"
      ],
      "text/plain": [
       "           uuid   adm4_pcode       date  pop_count_total  pop_count_mean  \\\n",
       "1   wdpop000001  ph063022152 2000-01-01      1492.030518       14.346447   \n",
       "2   wdpop000002  ph063022015 2000-01-01       688.092651       45.872843   \n",
       "3   wdpop000003  ph063022118 2000-01-01      1734.744507      133.441885   \n",
       "24  wdpop000018  ph063022040 2000-01-01      1891.350830       61.011317   \n",
       "25  wdpop000019  ph063022020 2000-01-01      2018.401123      288.343018   \n",
       "\n",
       "    pop_count_median  pop_count_stdev  pop_count_min  pop_count_max  \\\n",
       "1          14.088117         9.941083       1.157729      39.577888   \n",
       "2          46.660271         6.994909      30.479767      55.304688   \n",
       "3          18.758980       247.449747      11.151038     968.687927   \n",
       "24         60.119343        28.049733      17.409624     128.819382   \n",
       "25        268.530884       124.519965     130.097717     472.024048   \n",
       "\n",
       "               adm4_en  brgy_total_area  \n",
       "1       hibao-an norte           0.8800  \n",
       "2               bantud           0.1261  \n",
       "3       north baluarte           0.1259  \n",
       "24            cuartero           0.2656  \n",
       "25  monica blumentritt           0.0626  "
      ]
     },
     "execution_count": 26,
     "metadata": {},
     "output_type": "execute_result"
    }
   ],
   "source": [
    "POP_ILOILO.head()"
   ]
  },
  {
   "cell_type": "markdown",
   "id": "6ced6f1e-6569-4159-aeb1-2db2ea694d0d",
   "metadata": {},
   "source": [
    "### Importing of Population dataframe as a csv file"
   ]
  },
  {
   "cell_type": "code",
   "execution_count": 30,
   "id": "27a713bf",
   "metadata": {},
   "outputs": [],
   "source": [
    "POP_ILOILO.to_csv(\"POPULATION.csv\", index=False)"
   ]
  }
 ],
 "metadata": {
  "kernelspec": {
   "display_name": "Python 3 (ipykernel)",
   "language": "python",
   "name": "python3"
  },
  "language_info": {
   "codemirror_mode": {
    "name": "ipython",
    "version": 3
   },
   "file_extension": ".py",
   "mimetype": "text/x-python",
   "name": "python",
   "nbconvert_exporter": "python",
   "pygments_lexer": "ipython3",
   "version": "3.11.7"
  }
 },
 "nbformat": 4,
 "nbformat_minor": 5
}
